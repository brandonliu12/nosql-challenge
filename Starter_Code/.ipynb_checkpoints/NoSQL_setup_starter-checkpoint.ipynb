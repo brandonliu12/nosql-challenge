{
 "cells": [
  {
   "cell_type": "markdown",
   "id": "9a57c4c6",
   "metadata": {},
   "source": [
    "# Eat Safe, Love"
   ]
  },
  {
   "cell_type": "markdown",
   "id": "064ef857",
   "metadata": {},
   "source": [
    "## Part 1: Database and Jupyter Notebook Set Up"
   ]
  },
  {
   "cell_type": "markdown",
   "id": "664e3c1f",
   "metadata": {},
   "source": [
    "Import the data provided in the `establishments.json` file from your Terminal. Name the database `uk_food` and the collection `establishments`.\n",
    "\n",
    "Within this markdown cell, copy the line of text you used to import the data from your Terminal. This way, future analysts will be able to repeat your process.\n",
    "\n",
    "e.g.: Import the dataset with `YOUR IMPORT TEXT HERE`"
   ]
  },
  {
   "cell_type": "code",
   "execution_count": 1,
   "id": "3ecdd008",
   "metadata": {},
   "outputs": [],
   "source": [
    "# Import dependencies\n",
    "from pymongo import MongoClient\n",
    "from pprint import pprint"
   ]
  },
  {
   "cell_type": "code",
   "execution_count": 2,
   "id": "59390c4a",
   "metadata": {},
   "outputs": [],
   "source": [
    "# Create an instance of MongoClient\n",
    "mongo = MongoClient(port=27017)"
   ]
  },
  {
   "cell_type": "code",
   "execution_count": 3,
   "id": "7f9ececa",
   "metadata": {},
   "outputs": [
    {
     "name": "stdout",
     "output_type": "stream",
     "text": [
      "['admin', 'classDB', 'config', 'epa', 'fruits_db', 'local', 'uk_food']\n"
     ]
    }
   ],
   "source": [
    "# confirm that our new database was created\n",
    "print(mongo.list_database_names())"
   ]
  },
  {
   "cell_type": "code",
   "execution_count": 4,
   "id": "71e373c1",
   "metadata": {},
   "outputs": [],
   "source": [
    "# assign the uk_food database to a variable name\n",
    "db = mongo['uk_food']"
   ]
  },
  {
   "cell_type": "code",
   "execution_count": 5,
   "id": "ef1b89ed",
   "metadata": {},
   "outputs": [
    {
     "name": "stdout",
     "output_type": "stream",
     "text": [
      "['food']\n"
     ]
    }
   ],
   "source": [
    "# review the collections in our new database\n",
    "print(db.list_collection_names())"
   ]
  },
  {
   "cell_type": "code",
   "execution_count": 6,
   "id": "6a0d92df",
   "metadata": {},
   "outputs": [
    {
     "data": {
      "text/plain": [
       "{'_id': ObjectId('6461011e1142c17286989501'),\n",
       " 'FHRSID': 254250,\n",
       " 'ChangesByServerID': 0,\n",
       " 'LocalAuthorityBusinessID': 'PI/000066174',\n",
       " 'BusinessName': 'The Pines Calyx',\n",
       " 'BusinessType': 'Other catering premises',\n",
       " 'BusinessTypeID': 7841,\n",
       " 'AddressLine1': 'The Pines Garden',\n",
       " 'AddressLine2': 'Beach Road',\n",
       " 'AddressLine3': 'St Margarets Bay',\n",
       " 'AddressLine4': 'Kent',\n",
       " 'PostCode': 'CT15 6DZ',\n",
       " 'Phone': '',\n",
       " 'RatingValue': '5',\n",
       " 'RatingKey': 'fhrs_5_en-gb',\n",
       " 'RatingDate': '2021-08-17T00:00:00',\n",
       " 'LocalAuthorityCode': '182',\n",
       " 'LocalAuthorityName': 'Dover',\n",
       " 'LocalAuthorityWebSite': 'http://www.dover.gov.uk/',\n",
       " 'LocalAuthorityEmailAddress': 'publicprotection@dover.gov.uk',\n",
       " 'scores': {'Hygiene': 0, 'Structural': 0, 'ConfidenceInManagement': 0},\n",
       " 'SchemeType': 'FHRS',\n",
       " 'geocode': {'longitude': '1.383298', 'latitude': '51.148133'},\n",
       " 'RightToReply': '',\n",
       " 'Distance': 4587.362402580997,\n",
       " 'NewRatingPending': False,\n",
       " 'meta': {'dataSource': None,\n",
       "  'extractDate': '0001-01-01T00:00:00',\n",
       "  'itemCount': 0,\n",
       "  'returncode': None,\n",
       "  'totalCount': 0,\n",
       "  'totalPages': 0,\n",
       "  'pageSize': 0,\n",
       "  'pageNumber': 0},\n",
       " 'links': [{'rel': 'self',\n",
       "   'href': 'https://api.ratings.food.gov.uk/establishments/254250'}]}"
      ]
     },
     "execution_count": 6,
     "metadata": {},
     "output_type": "execute_result"
    }
   ],
   "source": [
    "# review a document in the establishments collection\n",
    "db.food.find_one()"
   ]
  },
  {
   "cell_type": "code",
   "execution_count": 7,
   "id": "11c9f11b",
   "metadata": {},
   "outputs": [],
   "source": [
    "# assign the collection to a variable\n",
    "food = db['food']"
   ]
  },
  {
   "cell_type": "markdown",
   "id": "d5671434",
   "metadata": {},
   "source": [
    "## Part 2: Update the Database"
   ]
  },
  {
   "cell_type": "markdown",
   "id": "314bd884",
   "metadata": {},
   "source": [
    "1. An exciting new halal restaurant just opened in Greenwich, but hasn't been rated yet. The magazine has asked you to include it in your analysis. Add the following restaurant \"Penang Flavours\" to the database."
   ]
  },
  {
   "cell_type": "code",
   "execution_count": 53,
   "id": "c2da7648",
   "metadata": {},
   "outputs": [
    {
     "name": "stdout",
     "output_type": "stream",
     "text": [
      "Inserted document ID: 6461011e1142c17286987777\n"
     ]
    }
   ],
   "source": [
    "# Create a dictionary for the new restaurant data\n",
    "from bson import ObjectId\n",
    "new_establishment = {\n",
    "    '_id': ObjectId('6461011e1142c17286987777'),\n",
    "    'FHRSID': 123649,\n",
    "    'ChangesByServerID': 0,\n",
    "    'LocalAuthorityBusinessID': 'PI/000010429',\n",
    "    'BusinessName': 'Penang Flavours',\n",
    "    'BusinessType': 'Thai',\n",
    "    'BusinessTypeID': 1,\n",
    "    'AddressLine1': 'The Canlan Plaza',\n",
    "    'AddressLine2': 'Canlan Road',\n",
    "    'AddressLine3': 'Oakville',\n",
    "    'AddressLine4': 'Ontario',\n",
    "    'PostCode': 'L6J 3A4',\n",
    "    'Phone': '289-637-1343',\n",
    "    'RatingValue': '5',\n",
    "    'RatingKey': 'fhrs_5_en-gb',\n",
    "    'RatingDate': '2021-08-17T00:00:00',\n",
    "    'LocalAuthorityCode': '182',\n",
    "    'LocalAuthorityName': 'Dover',\n",
    "    'LocalAuthorityWebSite': 'http://www.dover.gov.uk/',\n",
    "    'LocalAuthorityEmailAddress': 'publicprotection@dover.gov.uk',\n",
    "    'scores': {'Hygiene': 0, 'Structural': 0, 'ConfidenceInManagement': 0},\n",
    "    'SchemeType': 'FHRS',\n",
    "    'geocode': {'longitude': '1.313563', 'latitude': '51.1481524'},\n",
    "    'RightToReply': '',\n",
    "    'Distance': 4587.362402580997,\n",
    "    'NewRatingPending': False,\n",
    "    'meta': {\n",
    "        'dataSource': None,\n",
    "        'extractDate': '0001-01-01T00:00:00',\n",
    "        'itemCount': 0,\n",
    "        'returncode': None,\n",
    "        'totalCount': 0,\n",
    "        'totalPages': 0,\n",
    "        'pageSize': 0,\n",
    "        'pageNumber': 0\n",
    "    },\n",
    "    'links': [\n",
    "        {\n",
    "            'rel': 'self',\n",
    "            'href': 'https://api.ratings.food.gov.uk/establishments/123649'\n",
    "        }\n",
    "    ]\n",
    "}\n",
    "\n",
    "# Insert the document into the collection\n",
    "result = food.insert_one(new_establishment)\n",
    "\n",
    "# Print the inserted document's ID\n",
    "print(\"Inserted document ID:\", result.inserted_id)"
   ]
  },
  {
   "cell_type": "code",
   "execution_count": 55,
   "id": "63bb10f9",
   "metadata": {},
   "outputs": [
    {
     "data": {
      "text/plain": [
       "{'_id': ObjectId('6461011e1142c17286987777'),\n",
       " 'FHRSID': 123649,\n",
       " 'ChangesByServerID': 0,\n",
       " 'LocalAuthorityBusinessID': 'PI/000010429',\n",
       " 'BusinessName': 'Penang Flavours',\n",
       " 'BusinessType': 'Thai',\n",
       " 'BusinessTypeID': 1,\n",
       " 'AddressLine1': 'The Canlan Plaza',\n",
       " 'AddressLine2': 'Canlan Road',\n",
       " 'AddressLine3': 'Oakville',\n",
       " 'AddressLine4': 'Ontario',\n",
       " 'PostCode': 'L6J 3A4',\n",
       " 'Phone': '289-637-1343',\n",
       " 'RatingValue': '5',\n",
       " 'RatingKey': 'fhrs_5_en-gb',\n",
       " 'RatingDate': '2021-08-17T00:00:00',\n",
       " 'LocalAuthorityCode': '182',\n",
       " 'LocalAuthorityName': 'Dover',\n",
       " 'LocalAuthorityWebSite': 'http://www.dover.gov.uk/',\n",
       " 'LocalAuthorityEmailAddress': 'publicprotection@dover.gov.uk',\n",
       " 'scores': {'Hygiene': 0, 'Structural': 0, 'ConfidenceInManagement': 0},\n",
       " 'SchemeType': 'FHRS',\n",
       " 'geocode': {'longitude': '1.313563', 'latitude': '51.1481524'},\n",
       " 'RightToReply': '',\n",
       " 'Distance': 4587.362402580997,\n",
       " 'NewRatingPending': False,\n",
       " 'meta': {'dataSource': None,\n",
       "  'extractDate': '0001-01-01T00:00:00',\n",
       "  'itemCount': 0,\n",
       "  'returncode': None,\n",
       "  'totalCount': 0,\n",
       "  'totalPages': 0,\n",
       "  'pageSize': 0,\n",
       "  'pageNumber': 0},\n",
       " 'links': [{'rel': 'self',\n",
       "   'href': 'https://api.ratings.food.gov.uk/establishments/123649'}]}"
      ]
     },
     "execution_count": 55,
     "metadata": {},
     "output_type": "execute_result"
    }
   ],
   "source": [
    "# Check that the new restaurant was inserted\n",
    "query = {'BusinessName': 'Penang Flavours'}\n",
    "db.food.find_one(query)"
   ]
  },
  {
   "cell_type": "markdown",
   "id": "0ef4395a",
   "metadata": {},
   "source": [
    "2. Find the BusinessTypeID for \"Restaurant/Cafe/Canteen\" and return only the `BusinessTypeID` and `BusinessType` fields."
   ]
  },
  {
   "cell_type": "code",
   "execution_count": 56,
   "id": "93c63829",
   "metadata": {},
   "outputs": [
    {
     "name": "stdout",
     "output_type": "stream",
     "text": [
      "{'BusinessType': 'Restaurant/Cafe/Canteen', 'BusinessTypeID': 1}\n"
     ]
    }
   ],
   "source": [
    "# Find the BusinessTypeID for \"Restaurant/Cafe/Canteen\" and return only the BusinessTypeID and BusinessType fields\n",
    "\n",
    "# Define the query\n",
    "query = {'BusinessType': 'Restaurant/Cafe/Canteen'}\n",
    "# Define the projection (fields to include in the result)\n",
    "projection = {'BusinessTypeID': 1, 'BusinessType': 1, '_id': 0}\n",
    "\n",
    "# Execute the query and retrieve the results\n",
    "results = food.find_one(query, projection)\n",
    "\n",
    "# Print the results\n",
    "print(results)\n"
   ]
  },
  {
   "cell_type": "markdown",
   "id": "4e570caf",
   "metadata": {},
   "source": [
    "3. Update the new restaurant with the `BusinessTypeID` you found."
   ]
  },
  {
   "cell_type": "code",
   "execution_count": 57,
   "id": "7f599f3d",
   "metadata": {},
   "outputs": [
    {
     "data": {
      "text/plain": [
       "<pymongo.results.UpdateResult at 0x276fa95f9a0>"
      ]
     },
     "execution_count": 57,
     "metadata": {},
     "output_type": "execute_result"
    }
   ],
   "source": [
    "# Update the new restaurant with the correct BusinessTypeID\n",
    "food.update_one({'FHRSID': 123649}, [{'$set' : {'BusinessType' : 'Restaurant/Cafe/Canteen'}, '$set' : {'BusinessTypeID' : 1}}])"
   ]
  },
  {
   "cell_type": "code",
   "execution_count": 59,
   "id": "a6ad16f7",
   "metadata": {},
   "outputs": [
    {
     "data": {
      "text/plain": [
       "{'_id': ObjectId('6461011e1142c17286987777'),\n",
       " 'FHRSID': 123649,\n",
       " 'ChangesByServerID': 0,\n",
       " 'LocalAuthorityBusinessID': 'PI/000010429',\n",
       " 'BusinessName': 'Penang Flavours',\n",
       " 'BusinessType': 'Thai',\n",
       " 'BusinessTypeID': 1,\n",
       " 'AddressLine1': 'The Canlan Plaza',\n",
       " 'AddressLine2': 'Canlan Road',\n",
       " 'AddressLine3': 'Oakville',\n",
       " 'AddressLine4': 'Ontario',\n",
       " 'PostCode': 'L6J 3A4',\n",
       " 'Phone': '289-637-1343',\n",
       " 'RatingValue': '5',\n",
       " 'RatingKey': 'fhrs_5_en-gb',\n",
       " 'RatingDate': '2021-08-17T00:00:00',\n",
       " 'LocalAuthorityCode': '182',\n",
       " 'LocalAuthorityName': 'Dover',\n",
       " 'LocalAuthorityWebSite': 'http://www.dover.gov.uk/',\n",
       " 'LocalAuthorityEmailAddress': 'publicprotection@dover.gov.uk',\n",
       " 'scores': {'Hygiene': 0, 'Structural': 0, 'ConfidenceInManagement': 0},\n",
       " 'SchemeType': 'FHRS',\n",
       " 'geocode': {'longitude': '1.313563', 'latitude': '51.1481524'},\n",
       " 'RightToReply': '',\n",
       " 'Distance': 4587.362402580997,\n",
       " 'NewRatingPending': False,\n",
       " 'meta': {'dataSource': None,\n",
       "  'extractDate': '0001-01-01T00:00:00',\n",
       "  'itemCount': 0,\n",
       "  'returncode': None,\n",
       "  'totalCount': 0,\n",
       "  'totalPages': 0,\n",
       "  'pageSize': 0,\n",
       "  'pageNumber': 0},\n",
       " 'links': [{'rel': 'self',\n",
       "   'href': 'https://api.ratings.food.gov.uk/establishments/123649'}]}"
      ]
     },
     "execution_count": 59,
     "metadata": {},
     "output_type": "execute_result"
    }
   ],
   "source": [
    "# Confirm that the new restaurant was updated\n",
    "query = {'BusinessName': 'Penang Flavours'}\n",
    "db.food.find_one(query)"
   ]
  },
  {
   "cell_type": "markdown",
   "id": "67281254",
   "metadata": {},
   "source": [
    "4. The magazine is not interested in any establishments in Dover, so check how many documents contain the Dover Local Authority. Then, remove any establishments within the Dover Local Authority from the database, and check the number of documents to ensure they were deleted."
   ]
  },
  {
   "cell_type": "code",
   "execution_count": 60,
   "id": "768474a6",
   "metadata": {},
   "outputs": [
    {
     "data": {
      "text/plain": [
       "1"
      ]
     },
     "execution_count": 60,
     "metadata": {},
     "output_type": "execute_result"
    }
   ],
   "source": [
    "# Find how many documents have LocalAuthorityName as \"Dover\"\n",
    "query = {'LocalAuthorityName' : 'Dover'}\n",
    "db.food.count_documents(query)"
   ]
  },
  {
   "cell_type": "code",
   "execution_count": 61,
   "id": "a11d5f1b",
   "metadata": {},
   "outputs": [
    {
     "data": {
      "text/plain": [
       "<pymongo.results.DeleteResult at 0x276fa95ffa0>"
      ]
     },
     "execution_count": 61,
     "metadata": {},
     "output_type": "execute_result"
    }
   ],
   "source": [
    "# Delete all documents where LocalAuthorityName is \"Dover\"\n",
    "query = {'LocalAuthorityName' : 'Dover'}\n",
    "db.food.delete_many(query)"
   ]
  },
  {
   "cell_type": "code",
   "execution_count": 62,
   "id": "2a51aba0",
   "metadata": {},
   "outputs": [
    {
     "data": {
      "text/plain": [
       "0"
      ]
     },
     "execution_count": 62,
     "metadata": {},
     "output_type": "execute_result"
    }
   ],
   "source": [
    "# Check if any remaining documents include Dover\n",
    "query = {'LocalAuthorityName' : 'Dover'}\n",
    "db.food.count_documents(query)"
   ]
  },
  {
   "cell_type": "code",
   "execution_count": 63,
   "id": "8c356f7b",
   "metadata": {},
   "outputs": [
    {
     "data": {
      "text/plain": [
       "{'_id': ObjectId('6461011e1142c172869897e2'),\n",
       " 'FHRSID': 647177,\n",
       " 'ChangesByServerID': 0,\n",
       " 'LocalAuthorityBusinessID': 'PI/000041489',\n",
       " 'BusinessName': 'Wear Bay Bowls Club',\n",
       " 'BusinessType': 'Pub/bar/nightclub',\n",
       " 'BusinessTypeID': 7843,\n",
       " 'AddressLine1': 'Wear Bay Road',\n",
       " 'AddressLine2': 'Folkestone',\n",
       " 'AddressLine3': 'Kent',\n",
       " 'AddressLine4': '',\n",
       " 'PostCode': 'CT19 6PY',\n",
       " 'Phone': '',\n",
       " 'RatingValue': 4,\n",
       " 'RatingKey': 'fhrs_4_en-gb',\n",
       " 'RatingDate': '2014-03-31T00:00:00',\n",
       " 'LocalAuthorityCode': '188',\n",
       " 'LocalAuthorityName': 'Folkestone and Hythe',\n",
       " 'LocalAuthorityWebSite': 'http://www.folkestone-hythe.gov.uk',\n",
       " 'LocalAuthorityEmailAddress': 'foodteam@folkestone-hythe.gov.uk',\n",
       " 'scores': {'Hygiene': 5, 'Structural': 5, 'ConfidenceInManagement': 10},\n",
       " 'SchemeType': 'FHRS',\n",
       " 'geocode': {'longitude': Decimal128('1.196408'),\n",
       "  'latitude': Decimal128('51.086058')},\n",
       " 'RightToReply': '',\n",
       " 'Distance': 4591.821311183521,\n",
       " 'NewRatingPending': False,\n",
       " 'meta': {'dataSource': None,\n",
       "  'extractDate': '0001-01-01T00:00:00',\n",
       "  'itemCount': 0,\n",
       "  'returncode': None,\n",
       "  'totalCount': 0,\n",
       "  'totalPages': 0,\n",
       "  'pageSize': 0,\n",
       "  'pageNumber': 0},\n",
       " 'links': [{'rel': 'self',\n",
       "   'href': 'https://api.ratings.food.gov.uk/establishments/647177'}],\n",
       " 'longitude': None,\n",
       " 'latitude': None}"
      ]
     },
     "execution_count": 63,
     "metadata": {},
     "output_type": "execute_result"
    }
   ],
   "source": [
    "# Check that other documents remain with 'find_one'\n",
    "db.food.find_one()"
   ]
  },
  {
   "cell_type": "markdown",
   "id": "e9f1662d",
   "metadata": {},
   "source": [
    "5. Some of the number values are stored as strings, when they should be stored as numbers."
   ]
  },
  {
   "cell_type": "markdown",
   "id": "c46df2df",
   "metadata": {},
   "source": [
    "Use `update_many` to convert `latitude` and `longitude` to decimal numbers."
   ]
  },
  {
   "cell_type": "code",
   "execution_count": 64,
   "id": "fd4112ce",
   "metadata": {},
   "outputs": [
    {
     "data": {
      "text/plain": [
       "<pymongo.results.UpdateResult at 0x276fa95fcd0>"
      ]
     },
     "execution_count": 64,
     "metadata": {},
     "output_type": "execute_result"
    }
   ],
   "source": [
    "# Change the data type from String to Decimal for longitude and latitude\n",
    "food.update_many({}, [\n",
    "    {\n",
    "        '$set': {\n",
    "            'geocode.longitude': {'$toDecimal': '$geocode.longitude'},\n",
    "            'geocode.latitude': {'$toDecimal': '$geocode.latitude'}\n",
    "        }\n",
    "    }\n",
    "])"
   ]
  },
  {
   "cell_type": "markdown",
   "id": "142e319c",
   "metadata": {},
   "source": [
    "Use `update_many` to convert `RatingValue` to integer numbers."
   ]
  },
  {
   "cell_type": "code",
   "execution_count": 65,
   "id": "04430a5b",
   "metadata": {},
   "outputs": [
    {
     "data": {
      "text/plain": [
       "<pymongo.results.UpdateResult at 0x276fa95f1f0>"
      ]
     },
     "execution_count": 65,
     "metadata": {},
     "output_type": "execute_result"
    }
   ],
   "source": [
    "# Set non 1-5 Rating Values to Null\n",
    "non_ratings = [\"AwaitingInspection\", \"Awaiting Inspection\", \"AwaitingPublication\", \"Pass\", \"Exempt\"]\n",
    "food.update_many({\"RatingValue\": {\"$in\": non_ratings}}, [ {'$set':{ \"RatingValue\" : None}} ])"
   ]
  },
  {
   "cell_type": "code",
   "execution_count": 66,
   "id": "92524ccc",
   "metadata": {},
   "outputs": [
    {
     "data": {
      "text/plain": [
       "<pymongo.results.UpdateResult at 0x276fa95fa00>"
      ]
     },
     "execution_count": 66,
     "metadata": {},
     "output_type": "execute_result"
    }
   ],
   "source": [
    "# Change the data type from String to Integer for RatingValue\n",
    "food.update_many({}, [ {'$set': { \"RatingValue\" : {'$toInt': \"$RatingValue\"}\n",
    "                                              } \n",
    "                                     } ]\n",
    "                              )"
   ]
  },
  {
   "cell_type": "code",
   "execution_count": 67,
   "id": "0deacaf9",
   "metadata": {},
   "outputs": [
    {
     "data": {
      "text/plain": [
       "{'_id': ObjectId('6461011e1142c172869897e2'),\n",
       " 'FHRSID': 647177,\n",
       " 'ChangesByServerID': 0,\n",
       " 'LocalAuthorityBusinessID': 'PI/000041489',\n",
       " 'BusinessName': 'Wear Bay Bowls Club',\n",
       " 'BusinessType': 'Pub/bar/nightclub',\n",
       " 'BusinessTypeID': 7843,\n",
       " 'AddressLine1': 'Wear Bay Road',\n",
       " 'AddressLine2': 'Folkestone',\n",
       " 'AddressLine3': 'Kent',\n",
       " 'AddressLine4': '',\n",
       " 'PostCode': 'CT19 6PY',\n",
       " 'Phone': '',\n",
       " 'RatingValue': 4,\n",
       " 'RatingKey': 'fhrs_4_en-gb',\n",
       " 'RatingDate': '2014-03-31T00:00:00',\n",
       " 'LocalAuthorityCode': '188',\n",
       " 'LocalAuthorityName': 'Folkestone and Hythe',\n",
       " 'LocalAuthorityWebSite': 'http://www.folkestone-hythe.gov.uk',\n",
       " 'LocalAuthorityEmailAddress': 'foodteam@folkestone-hythe.gov.uk',\n",
       " 'scores': {'Hygiene': 5, 'Structural': 5, 'ConfidenceInManagement': 10},\n",
       " 'SchemeType': 'FHRS',\n",
       " 'geocode': {'longitude': Decimal128('1.196408'),\n",
       "  'latitude': Decimal128('51.086058')},\n",
       " 'RightToReply': '',\n",
       " 'Distance': 4591.821311183521,\n",
       " 'NewRatingPending': False,\n",
       " 'meta': {'dataSource': None,\n",
       "  'extractDate': '0001-01-01T00:00:00',\n",
       "  'itemCount': 0,\n",
       "  'returncode': None,\n",
       "  'totalCount': 0,\n",
       "  'totalPages': 0,\n",
       "  'pageSize': 0,\n",
       "  'pageNumber': 0},\n",
       " 'links': [{'rel': 'self',\n",
       "   'href': 'https://api.ratings.food.gov.uk/establishments/647177'}],\n",
       " 'longitude': None,\n",
       " 'latitude': None}"
      ]
     },
     "execution_count": 67,
     "metadata": {},
     "output_type": "execute_result"
    }
   ],
   "source": [
    "# Check that the coordinates and rating value are now numbers\n",
    "food.find_one()"
   ]
  },
  {
   "cell_type": "code",
   "execution_count": null,
   "id": "91fb7b8b",
   "metadata": {},
   "outputs": [],
   "source": []
  }
 ],
 "metadata": {
  "kernelspec": {
   "display_name": "Python 3 (ipykernel)",
   "language": "python",
   "name": "python3"
  },
  "language_info": {
   "codemirror_mode": {
    "name": "ipython",
    "version": 3
   },
   "file_extension": ".py",
   "mimetype": "text/x-python",
   "name": "python",
   "nbconvert_exporter": "python",
   "pygments_lexer": "ipython3",
   "version": "3.9.13"
  }
 },
 "nbformat": 4,
 "nbformat_minor": 5
}
